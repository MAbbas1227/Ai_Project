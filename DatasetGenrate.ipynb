{
 "cells": [
  {
   "cell_type": "code",
   "execution_count": 4,
   "id": "7791a587",
   "metadata": {},
   "outputs": [],
   "source": [
    "from faker import Faker\n",
    "import pandas as pd\n",
    "import numpy as np"
   ]
  },
  {
   "cell_type": "code",
   "execution_count": 7,
   "id": "e789b385",
   "metadata": {},
   "outputs": [],
   "source": [
    "fake =Faker()"
   ]
  },
  {
   "cell_type": "code",
   "execution_count": null,
   "id": "9d4fabac",
   "metadata": {},
   "outputs": [],
   "source": [
    "itemId=[]\n",
    "item_name=[]\n",
    "category=[]\n",
    "current_stock=[]\n",
    "price=[]\n",
    "Restock_threshould=[]\n",
    "Expiration_date=[]\n"
   ]
  },
  {
   "cell_type": "code",
   "execution_count": 8,
   "id": "943c8352",
   "metadata": {},
   "outputs": [
    {
     "data": {
      "text/plain": [
       "datetime.date(2023, 7, 7)"
      ]
     },
     "execution_count": 8,
     "metadata": {},
     "output_type": "execute_result"
    }
   ],
   "source": [
    "fake.date_between_dates('-2y','now')"
   ]
  },
  {
   "cell_type": "code",
   "execution_count": 13,
   "id": "ca6866eb",
   "metadata": {},
   "outputs": [
    {
     "data": {
      "text/plain": [
       "'Michelle Rios'"
      ]
     },
     "execution_count": 13,
     "metadata": {},
     "output_type": "execute_result"
    }
   ],
   "source": [
    "fake.name()"
   ]
  },
  {
   "cell_type": "code",
   "execution_count": 7,
   "id": "2e57a4a4",
   "metadata": {},
   "outputs": [
    {
     "name": "stdout",
     "output_type": "stream",
     "text": [
      "✅ Inventory dataset 'smart_mart_inventory.csv' has been generated successfully!\n"
     ]
    }
   ],
   "source": [
    "import pandas as pd\n",
    "from faker import Faker\n",
    "import random\n",
    "\n",
    "fake = Faker()\n",
    "\n",
    "# Define main categories and their subcategories\n",
    "main_categories = {\n",
    "    'Pharmacy': ['Antibiotic', 'Analgesic', 'Antacid', 'Diabetes', 'Allergy'],\n",
    "    'Grocery': ['Rice', 'Flour', 'Sugar', 'Salt', 'Oil'],\n",
    "    'Fruits & Vegetables': ['Fruits', 'Vegetables'],\n",
    "    'Beverages': ['Juice', 'Soft Drink', 'Water', 'Tea'],\n",
    "    'Bakery': ['Bread', 'Buns', 'Pastry'],\n",
    "    'Frozen': ['Frozen Meat', 'Frozen Veg', 'Ice Cream']\n",
    "}\n",
    "\n",
    "# Generate a fake item name based on subcategory\n",
    "def generate_item_name(sub_category):\n",
    "    base_name = fake.word().capitalize()\n",
    "    return f\"{base_name} {sub_category}\"\n",
    "\n",
    "# Generate the inventory dataset\n",
    "def generate_inventory_data(n):\n",
    "    data = []\n",
    "    for i in range(1, n + 1):\n",
    "        main_cat = random.choice(list(main_categories.keys()))\n",
    "        sub_cat = random.choice(main_categories[main_cat])\n",
    "        item_name = generate_item_name(sub_cat)\n",
    "        quantity = random.randint(5, 150)\n",
    "        price = round(random.uniform(50, 1000), 2)\n",
    "        expiration_date = fake.date_between(start_date=\"+5d\", end_date=\"+1y\")\n",
    "        stock_threshold = random.randint(10, 50)\n",
    "        units_sold = random.randint(10, 200)\n",
    "\n",
    "        # Only pharmacy items may require a prescription\n",
    "        if main_cat == \"Pharmacy\":\n",
    "            prescription_required = random.choice([\"Yes\", \"No\"])\n",
    "        else:\n",
    "            prescription_required = \"N/A\"\n",
    "\n",
    "        data.append({\n",
    "            'ItemID': f\"ITM{i:04d}\",\n",
    "            'ItemName': item_name,\n",
    "            'MainCategory': main_cat,\n",
    "            'SubCategory': sub_cat,\n",
    "            'Quantity': quantity,\n",
    "            'Price': price,\n",
    "            'ExpirationDate': expiration_date,\n",
    "            'StockThreshold': stock_threshold,\n",
    "            'UnitsSoldLastMonth': units_sold,\n",
    "            'PrescriptionRequired': prescription_required\n",
    "        })\n",
    "\n",
    "    return pd.DataFrame(data)\n",
    "\n",
    "# Generate 500 inventory records\n",
    "df = generate_inventory_data(100000)\n",
    "\n",
    "# Save to CSV\n",
    "df.to_csv(\"smart_mart_inventory.csv\", index=False)\n",
    "\n",
    "\n",
    "print(\"✅ Inventory dataset 'smart_mart_inventory.csv' has been generated successfully!\")\n"
   ]
  },
  {
   "cell_type": "code",
   "execution_count": null,
   "id": "45609c4b",
   "metadata": {},
   "outputs": [],
   "source": []
  }
 ],
 "metadata": {
  "kernelspec": {
   "display_name": "Python 3",
   "language": "python",
   "name": "python3"
  },
  "language_info": {
   "codemirror_mode": {
    "name": "ipython",
    "version": 3
   },
   "file_extension": ".py",
   "mimetype": "text/x-python",
   "name": "python",
   "nbconvert_exporter": "python",
   "pygments_lexer": "ipython3",
   "version": "3.12.5"
  }
 },
 "nbformat": 4,
 "nbformat_minor": 5
}
