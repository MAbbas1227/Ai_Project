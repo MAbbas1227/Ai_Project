{
 "cells": [
  {
   "cell_type": "code",
   "execution_count": 1,
   "id": "eb6d058c",
   "metadata": {},
   "outputs": [],
   "source": [
    "import pandas as pd\n",
    "import matplotlib.pyplot as plt\n",
    "import seaborn as sns\n",
    "\n",
    "df = pd.read_csv(\"E:/Ai project/smart_mart_inventory.csv\")\n",
    "# Re-run your preprocessing code here if starting fresh\n"
   ]
  },
  {
   "cell_type": "markdown",
   "id": "28b966f7",
   "metadata": {},
   "source": [
    "🔍 Visualizations"
   ]
  },
  {
   "cell_type": "code",
   "execution_count": null,
   "id": "30e3862c",
   "metadata": {},
   "outputs": [
    {
     "name": "stderr",
     "output_type": "stream",
     "text": [
      "C:\\Users\\Abbas khan\\AppData\\Local\\Temp\\ipykernel_17448\\3691006356.py:2: FutureWarning: \n",
      "\n",
      "Passing `palette` without assigning `hue` is deprecated and will be removed in v0.14.0. Assign the `y` variable to `hue` and set `legend=False` for the same effect.\n",
      "\n",
      "  sns.barplot(data=df, x='UnitsSoldLastMonth', y='ItemName', palette='viridis')\n"
     ]
    }
   ],
   "source": [
    "plt.figure(figsize=(12, 6))\n",
    "sns.barplot(data=df, x='UnitsSoldLastMonth', y='ItemName', palette='viridis')\n",
    "plt.title('Units Sold Last Month per Item')\n",
    "plt.xlabel('Units Sold')\n",
    "plt.ylabel('Item Name')\n",
    "plt.tight_layout()\n",
    "plt.show()\n"
   ]
  },
  {
   "cell_type": "markdown",
   "id": "352fbf4c",
   "metadata": {},
   "source": [
    "📉 Stock Level vs Threshold"
   ]
  },
  {
   "cell_type": "code",
   "execution_count": null,
   "id": "fe29b0e2",
   "metadata": {},
   "outputs": [],
   "source": [
    "plt.figure(figsize=(10, 6))\n",
    "df_sorted = df.sort_values(by='Quantity', ascending=False)\n",
    "\n",
    "plt.barh(df_sorted['ItemName'], df_sorted['Quantity'], color='skyblue', label='Current Stock')\n",
    "plt.barh(df_sorted['ItemName'], df_sorted['StockThreshold'], color='salmon', alpha=0.6, label='Stock Threshold')\n",
    "\n",
    "plt.xlabel(\"Quantity\")\n",
    "plt.title(\"Stock vs. Threshold per Item\")\n",
    "plt.legend()\n",
    "plt.tight_layout()\n",
    "plt.show()\n"
   ]
  },
  {
   "cell_type": "markdown",
   "id": "087583a3",
   "metadata": {},
   "source": [
    "📊 Top 5 Best-Selling Items (Last Month)"
   ]
  },
  {
   "cell_type": "code",
   "execution_count": null,
   "id": "8edeb388",
   "metadata": {},
   "outputs": [],
   "source": [
    "top_selling = df.sort_values(by='UnitsSoldLastMonth', ascending=False).head(5)\n",
    "\n",
    "plt.figure(figsize=(8, 5))\n",
    "sns.barplot(x='UnitsSoldLastMonth', y='ItemName', data=top_selling, palette='magma')\n",
    "plt.title(\"Top 5 Best-Selling Items Last Month\")\n",
    "plt.xlabel(\"Units Sold\")\n",
    "plt.ylabel(\"Item Name\")\n",
    "plt.tight_layout()\n",
    "plt.show()\n"
   ]
  },
  {
   "cell_type": "markdown",
   "id": "728e0301",
   "metadata": {},
   "source": [
    ". ⏳ Item Expiration Timeline"
   ]
  },
  {
   "cell_type": "code",
   "execution_count": null,
   "id": "4d86a10f",
   "metadata": {},
   "outputs": [],
   "source": [
    "df['ExpirationDate'] = pd.to_datetime(df['ExpirationDate'])\n",
    "\n",
    "plt.figure(figsize=(10, 6))\n",
    "exp_sorted = df.sort_values('ExpirationDate')\n",
    "sns.barplot(x='ExpirationDate', y='ItemName', data=exp_sorted, palette='coolwarm')\n",
    "plt.title('Expiration Timeline of Items')\n",
    "plt.xlabel('Expiration Date')\n",
    "plt.ylabel('Item Name')\n",
    "plt.xticks(rotation=45)\n",
    "plt.tight_layout()\n",
    "plt.show()\n"
   ]
  }
 ],
 "metadata": {
  "kernelspec": {
   "display_name": "Python 3",
   "language": "python",
   "name": "python3"
  },
  "language_info": {
   "codemirror_mode": {
    "name": "ipython",
    "version": 3
   },
   "file_extension": ".py",
   "mimetype": "text/x-python",
   "name": "python",
   "nbconvert_exporter": "python",
   "pygments_lexer": "ipython3",
   "version": "3.12.5"
  }
 },
 "nbformat": 4,
 "nbformat_minor": 5
}
