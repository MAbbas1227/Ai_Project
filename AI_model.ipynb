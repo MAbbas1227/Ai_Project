{
 "cells": [
  {
   "cell_type": "code",
   "execution_count": null,
   "id": "14fcaef4",
   "metadata": {},
   "outputs": [],
   "source": [
    "import pandas as pd\n",
    "import matplotlib.pyplot as plt\n",
    "import seaborn as sns\n",
    "file_path = r'C:\\Users\\Munir\\Downloads\\Ai_Project-master\\smart_mart_inventory.csv'\n",
    "df = pd.read_csv(file_path)  # define df once\n"
   ]
  },
  {
   "cell_type": "code",
   "execution_count": 5,
   "id": "798aa24d",
   "metadata": {},
   "outputs": [
    {
     "name": "stdout",
     "output_type": "stream",
     "text": [
      "                ItemName  Quantity  StockThreshold      StockAlert\n",
      "1       Hope Frozen Meat        14              50  Reorder Needed\n",
      "5            Fly Allergy         6              23  Reorder Needed\n",
      "7          Physical Salt        26              42  Reorder Needed\n",
      "16     Forget Frozen Veg        17              45  Reorder Needed\n",
      "22      White Vegetables        22              34  Reorder Needed\n",
      "...                  ...       ...             ...             ...\n",
      "99955         Cold Water        10              34  Reorder Needed\n",
      "99971     East Ice Cream        32              38  Reorder Needed\n",
      "99975    Anyone Diabetes        20              50  Reorder Needed\n",
      "99998         World Buns        14              23  Reorder Needed\n",
      "99999        Claim Water        16              48  Reorder Needed\n",
      "\n",
      "[17948 rows x 4 columns]\n"
     ]
    }
   ],
   "source": [
    "# Identify items below or close to stock threshold\n",
    "df['StockAlert'] = df.apply(\n",
    "    lambda row: 'Reorder Needed' if row['Quantity'] <= row['StockThreshold'] else 'Sufficient', axis=1\n",
    ")\n",
    "\n",
    "# Display alerts\n",
    "stock_alerts = df[['ItemName', 'Quantity', 'StockThreshold', 'StockAlert']]\n",
    "print(stock_alerts[stock_alerts['StockAlert'] == 'Reorder Needed'])"
   ]
  },
  {
   "cell_type": "code",
   "execution_count": null,
   "id": "6b7c29d2",
   "metadata": {},
   "outputs": [
    {
     "name": "stdout",
     "output_type": "stream",
     "text": [
      "                    ItemName  Quantity  StockThreshold  PredictedDemand\n",
      "0               Prepare Rice        88              26             88.0\n",
      "1           Hope Frozen Meat        14              50             14.0\n",
      "2          Decade Vegetables        68              32             68.0\n",
      "3                 Agree Rice        38              15             38.0\n",
      "4                 Song Water        60              15             60.0\n",
      "...                      ...       ...             ...              ...\n",
      "99995         Program Pastry        74              48             74.0\n",
      "99996             Might Buns       114              50            114.0\n",
      "99997  Successful Antibiotic        88              16             88.0\n",
      "99998             World Buns        14              23             14.0\n",
      "99999            Claim Water        16              48             16.0\n",
      "\n",
      "[100000 rows x 4 columns]\n"
     ]
    }
   ],
   "source": [
    "from sklearn.linear_model import LinearRegression\n",
    "from sklearn.model_selection import train_test_split\n",
    "\n",
    "X = df[['Quantity', 'StockThreshold']]  \n",
    "y = df['Quantity']  # Dependent variable (target is Quantity, or you can use other metrics)\n",
    "\n",
    "# Split into train/test sets\n",
    "X_train, X_test, y_train, y_test = train_test_split(X, y, test_size=0.2, random_state=42)\n",
    "\n",
    "# Create and train a model\n",
    "model = LinearRegression()\n",
    "model.fit(X_train, y_train)\n",
    "\n",
    "# Predict future demand based on the model\n",
    "df['PredictedDemand'] = model.predict(X)\n",
    "print(df[['ItemName', 'Quantity', 'StockThreshold', 'PredictedDemand']])\n"
   ]
  },
  {
   "cell_type": "code",
   "execution_count": 10,
   "id": "77ad7906",
   "metadata": {},
   "outputs": [
    {
     "name": "stdout",
     "output_type": "stream",
     "text": [
      "                    ItemName  Quantity  StockThreshold  PredictedDemand  \\\n",
      "0               Prepare Rice        88              26             88.0   \n",
      "2          Decade Vegetables        68              32             68.0   \n",
      "3                 Agree Rice        38              15             38.0   \n",
      "4                 Song Water        60              15             60.0   \n",
      "6       Production Analgesic       137              42            137.0   \n",
      "...                      ...       ...             ...              ...   \n",
      "99993        Home Vegetables       102              11            102.0   \n",
      "99994            Amount Rice        63              14             63.0   \n",
      "99995         Program Pastry        74              48             74.0   \n",
      "99996             Might Buns       114              50            114.0   \n",
      "99997  Successful Antibiotic        88              16             88.0   \n",
      "\n",
      "           StockAlert  \n",
      "0      Reorder Needed  \n",
      "2      Reorder Needed  \n",
      "3      Reorder Needed  \n",
      "4      Reorder Needed  \n",
      "6      Reorder Needed  \n",
      "...               ...  \n",
      "99993  Reorder Needed  \n",
      "99994  Reorder Needed  \n",
      "99995  Reorder Needed  \n",
      "99996  Reorder Needed  \n",
      "99997  Reorder Needed  \n",
      "\n",
      "[82052 rows x 5 columns]\n"
     ]
    }
   ],
   "source": [
    "df['StockAlert'] = df.apply(\n",
    "    lambda row: 'Reorder Needed' if row['PredictedDemand'] > row['StockThreshold'] else 'Sufficient', axis=1\n",
    ")\n",
    "\n",
    "# Display stock alerts\n",
    "stock_alerts = df[['ItemName', 'Quantity', 'StockThreshold', 'PredictedDemand', 'StockAlert']]\n",
    "print(stock_alerts[stock_alerts['StockAlert'] == 'Reorder Needed'])\n"
   ]
  },
  {
   "cell_type": "code",
   "execution_count": 14,
   "id": "7c284ee0",
   "metadata": {},
   "outputs": [
    {
     "data": {
      "image/png": "[encoded data removed]",
      "text/plain": [
       "<Figure size 640x480 with 1 Axes>"
      ]
     },
     "metadata": {},
     "output_type": "display_data"
    }
   ],
   "source": [
    "import matplotlib.pyplot as plt\n",
    "\n",
    "# Count of reorder needed vs. sufficient\n",
    "alert_counts = df['StockAlert'].value_counts()\n",
    "alert_counts.plot(kind='pie', autopct='%1.1f%%', startangle=90)\n",
    "plt.ylabel('')\n",
    "plt.title('Stock Alert Distribution')\n",
    "plt.show()\n"
   ]
  }
 ],
 "metadata": {
  "kernelspec": {
   "display_name": "Python 3",
   "language": "python",
   "name": "python3"
  },
  "language_info": {
   "codemirror_mode": {
    "name": "ipython",
    "version": 3
   },
   "file_extension": ".py",
   "mimetype": "text/x-python",
   "name": "python",
   "nbconvert_exporter": "python",
   "pygments_lexer": "ipython3",
   "version": "3.11.9"
  }
 },
 "nbformat": 4,
 "nbformat_minor": 5
}
